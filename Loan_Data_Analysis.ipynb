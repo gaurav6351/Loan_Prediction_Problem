{
 "cells": [
  {
   "cell_type": "code",
   "execution_count": 133,
   "metadata": {
    "collapsed": false
   },
   "outputs": [
    {
     "name": "stdout",
     "output_type": "stream",
     "text": [
      "          Gender Married Dependents     Education Self_Employed  \\\n",
      "Loan_ID                                                           \n",
      "LP001002    Male      No          0      Graduate            No   \n",
      "LP001003    Male     Yes          1      Graduate            No   \n",
      "LP001005    Male     Yes          0      Graduate           Yes   \n",
      "LP001006    Male     Yes          0  Not Graduate            No   \n",
      "LP001008    Male      No          0      Graduate            No   \n",
      "LP001011    Male     Yes          2      Graduate           Yes   \n",
      "LP001013    Male     Yes          0  Not Graduate            No   \n",
      "LP001014    Male     Yes         3+      Graduate            No   \n",
      "LP001018    Male     Yes          2      Graduate            No   \n",
      "LP001020    Male     Yes          1      Graduate            No   \n",
      "LP001024    Male     Yes          2      Graduate            No   \n",
      "LP001027    Male     Yes          2      Graduate           NaN   \n",
      "LP001028    Male     Yes          2      Graduate            No   \n",
      "LP001029    Male      No          0      Graduate            No   \n",
      "LP001030    Male     Yes          2      Graduate            No   \n",
      "LP001032    Male      No          0      Graduate            No   \n",
      "LP001034    Male      No          1  Not Graduate            No   \n",
      "LP001036  Female      No          0      Graduate            No   \n",
      "LP001038    Male     Yes          0  Not Graduate            No   \n",
      "LP001041    Male     Yes          0      Graduate           NaN   \n",
      "LP001043    Male     Yes          0  Not Graduate            No   \n",
      "LP001046    Male     Yes          1      Graduate            No   \n",
      "LP001047    Male     Yes          0  Not Graduate            No   \n",
      "LP001050     NaN     Yes          2  Not Graduate            No   \n",
      "LP001052    Male     Yes          1      Graduate           NaN   \n",
      "LP001066    Male     Yes          0      Graduate           Yes   \n",
      "LP001068    Male     Yes          0      Graduate            No   \n",
      "LP001073    Male     Yes          2  Not Graduate            No   \n",
      "LP001086    Male      No          0  Not Graduate            No   \n",
      "LP001087  Female      No          2      Graduate           NaN   \n",
      "...          ...     ...        ...           ...           ...   \n",
      "LP002911    Male     Yes          1      Graduate            No   \n",
      "LP002912    Male     Yes          1      Graduate            No   \n",
      "LP002916    Male     Yes          0      Graduate            No   \n",
      "LP002917  Female      No          0  Not Graduate            No   \n",
      "LP002925     NaN      No          0      Graduate            No   \n",
      "LP002926    Male     Yes          2      Graduate           Yes   \n",
      "LP002928    Male     Yes          0      Graduate            No   \n",
      "LP002931    Male     Yes          2      Graduate           Yes   \n",
      "LP002933     NaN      No         3+      Graduate           Yes   \n",
      "LP002936    Male     Yes          0      Graduate            No   \n",
      "LP002938    Male     Yes          0      Graduate           Yes   \n",
      "LP002940    Male      No          0  Not Graduate            No   \n",
      "LP002941    Male     Yes          2  Not Graduate           Yes   \n",
      "LP002943    Male      No        NaN      Graduate            No   \n",
      "LP002945    Male     Yes          0      Graduate           Yes   \n",
      "LP002948    Male     Yes          2      Graduate            No   \n",
      "LP002949  Female      No         3+      Graduate           NaN   \n",
      "LP002950    Male     Yes          0  Not Graduate           NaN   \n",
      "LP002953    Male     Yes         3+      Graduate            No   \n",
      "LP002958    Male      No          0      Graduate            No   \n",
      "LP002959  Female     Yes          1      Graduate            No   \n",
      "LP002960    Male     Yes          0  Not Graduate            No   \n",
      "LP002961    Male     Yes          1      Graduate            No   \n",
      "LP002964    Male     Yes          2  Not Graduate            No   \n",
      "LP002974    Male     Yes          0      Graduate            No   \n",
      "LP002978  Female      No          0      Graduate            No   \n",
      "LP002979    Male     Yes         3+      Graduate            No   \n",
      "LP002983    Male     Yes          1      Graduate            No   \n",
      "LP002984    Male     Yes          2      Graduate            No   \n",
      "LP002990  Female      No          0      Graduate           Yes   \n",
      "\n",
      "          ApplicantIncome  CoapplicantIncome  LoanAmount  Loan_Amount_Term  \\\n",
      "Loan_ID                                                                      \n",
      "LP001002             5849                0.0         NaN             360.0   \n",
      "LP001003             4583             1508.0       128.0             360.0   \n",
      "LP001005             3000                0.0        66.0             360.0   \n",
      "LP001006             2583             2358.0       120.0             360.0   \n",
      "LP001008             6000                0.0       141.0             360.0   \n",
      "LP001011             5417             4196.0       267.0             360.0   \n",
      "LP001013             2333             1516.0        95.0             360.0   \n",
      "LP001014             3036             2504.0       158.0             360.0   \n",
      "LP001018             4006             1526.0       168.0             360.0   \n",
      "LP001020            12841            10968.0       349.0             360.0   \n",
      "LP001024             3200              700.0        70.0             360.0   \n",
      "LP001027             2500             1840.0       109.0             360.0   \n",
      "LP001028             3073             8106.0       200.0             360.0   \n",
      "LP001029             1853             2840.0       114.0             360.0   \n",
      "LP001030             1299             1086.0        17.0             120.0   \n",
      "LP001032             4950                0.0       125.0             360.0   \n",
      "LP001034             3596                0.0       100.0             240.0   \n",
      "LP001036             3510                0.0        76.0             360.0   \n",
      "LP001038             4887                0.0       133.0             360.0   \n",
      "LP001041             2600             3500.0       115.0               NaN   \n",
      "LP001043             7660                0.0       104.0             360.0   \n",
      "LP001046             5955             5625.0       315.0             360.0   \n",
      "LP001047             2600             1911.0       116.0             360.0   \n",
      "LP001050             3365             1917.0       112.0             360.0   \n",
      "LP001052             3717             2925.0       151.0             360.0   \n",
      "LP001066             9560                0.0       191.0             360.0   \n",
      "LP001068             2799             2253.0       122.0             360.0   \n",
      "LP001073             4226             1040.0       110.0             360.0   \n",
      "LP001086             1442                0.0        35.0             360.0   \n",
      "LP001087             3750             2083.0       120.0             360.0   \n",
      "...                   ...                ...         ...               ...   \n",
      "LP002911             2787             1917.0       146.0             360.0   \n",
      "LP002912             4283             3000.0       172.0              84.0   \n",
      "LP002916             2297             1522.0       104.0             360.0   \n",
      "LP002917             2165                0.0        70.0             360.0   \n",
      "LP002925             4750                0.0        94.0             360.0   \n",
      "LP002926             2726                0.0       106.0             360.0   \n",
      "LP002928             3000             3416.0        56.0             180.0   \n",
      "LP002931             6000                0.0       205.0             240.0   \n",
      "LP002933             9357                0.0       292.0             360.0   \n",
      "LP002936             3859             3300.0       142.0             180.0   \n",
      "LP002938            16120                0.0       260.0             360.0   \n",
      "LP002940             3833                0.0       110.0             360.0   \n",
      "LP002941             6383             1000.0       187.0             360.0   \n",
      "LP002943             2987                0.0        88.0             360.0   \n",
      "LP002945             9963                0.0       180.0             360.0   \n",
      "LP002948             5780                0.0       192.0             360.0   \n",
      "LP002949              416            41667.0       350.0             180.0   \n",
      "LP002950             2894             2792.0       155.0             360.0   \n",
      "LP002953             5703                0.0       128.0             360.0   \n",
      "LP002958             3676             4301.0       172.0             360.0   \n",
      "LP002959            12000                0.0       496.0             360.0   \n",
      "LP002960             2400             3800.0         NaN             180.0   \n",
      "LP002961             3400             2500.0       173.0             360.0   \n",
      "LP002964             3987             1411.0       157.0             360.0   \n",
      "LP002974             3232             1950.0       108.0             360.0   \n",
      "LP002978             2900                0.0        71.0             360.0   \n",
      "LP002979             4106                0.0        40.0             180.0   \n",
      "LP002983             8072              240.0       253.0             360.0   \n",
      "LP002984             7583                0.0       187.0             360.0   \n",
      "LP002990             4583                0.0       133.0             360.0   \n",
      "\n",
      "          Credit_History Property_Area Loan_Status  \n",
      "Loan_ID                                             \n",
      "LP001002             1.0         Urban           Y  \n",
      "LP001003             1.0         Rural           N  \n",
      "LP001005             1.0         Urban           Y  \n",
      "LP001006             1.0         Urban           Y  \n",
      "LP001008             1.0         Urban           Y  \n",
      "LP001011             1.0         Urban           Y  \n",
      "LP001013             1.0         Urban           Y  \n",
      "LP001014             0.0     Semiurban           N  \n",
      "LP001018             1.0         Urban           Y  \n",
      "LP001020             1.0     Semiurban           N  \n",
      "LP001024             1.0         Urban           Y  \n",
      "LP001027             1.0         Urban           Y  \n",
      "LP001028             1.0         Urban           Y  \n",
      "LP001029             1.0         Rural           N  \n",
      "LP001030             1.0         Urban           Y  \n",
      "LP001032             1.0         Urban           Y  \n",
      "LP001034             NaN         Urban           Y  \n",
      "LP001036             0.0         Urban           N  \n",
      "LP001038             1.0         Rural           N  \n",
      "LP001041             1.0         Urban           Y  \n",
      "LP001043             0.0         Urban           N  \n",
      "LP001046             1.0         Urban           Y  \n",
      "LP001047             0.0     Semiurban           N  \n",
      "LP001050             0.0         Rural           N  \n",
      "LP001052             NaN     Semiurban           N  \n",
      "LP001066             1.0     Semiurban           Y  \n",
      "LP001068             1.0     Semiurban           Y  \n",
      "LP001073             1.0         Urban           Y  \n",
      "LP001086             1.0         Urban           N  \n",
      "LP001087             1.0     Semiurban           Y  \n",
      "...                  ...           ...         ...  \n",
      "LP002911             0.0         Rural           N  \n",
      "LP002912             1.0         Rural           N  \n",
      "LP002916             1.0         Urban           Y  \n",
      "LP002917             1.0     Semiurban           Y  \n",
      "LP002925             1.0     Semiurban           Y  \n",
      "LP002926             0.0     Semiurban           N  \n",
      "LP002928             1.0     Semiurban           Y  \n",
      "LP002931             1.0     Semiurban           N  \n",
      "LP002933             1.0     Semiurban           Y  \n",
      "LP002936             1.0         Rural           Y  \n",
      "LP002938             1.0         Urban           Y  \n",
      "LP002940             1.0         Rural           Y  \n",
      "LP002941             1.0         Rural           N  \n",
      "LP002943             0.0     Semiurban           N  \n",
      "LP002945             1.0         Rural           Y  \n",
      "LP002948             1.0         Urban           Y  \n",
      "LP002949             NaN         Urban           N  \n",
      "LP002950             1.0         Rural           Y  \n",
      "LP002953             1.0         Urban           Y  \n",
      "LP002958             1.0         Rural           Y  \n",
      "LP002959             1.0     Semiurban           Y  \n",
      "LP002960             1.0         Urban           N  \n",
      "LP002961             1.0     Semiurban           Y  \n",
      "LP002964             1.0         Rural           Y  \n",
      "LP002974             1.0         Rural           Y  \n",
      "LP002978             1.0         Rural           Y  \n",
      "LP002979             1.0         Rural           Y  \n",
      "LP002983             1.0         Urban           Y  \n",
      "LP002984             1.0         Urban           Y  \n",
      "LP002990             0.0     Semiurban           N  \n",
      "\n",
      "[614 rows x 12 columns]\n"
     ]
    }
   ],
   "source": [
    "import pandas as pd\n",
    "import numpy as np\n",
    "data = pd.read_csv(\"/home/gaurav/work/test/train.csv\", index_col=\"Loan_ID\")\n",
    "print data\n"
   ]
  },
  {
   "cell_type": "code",
   "execution_count": null,
   "metadata": {
    "collapsed": false
   },
   "outputs": [],
   "source": []
  },
  {
   "cell_type": "code",
   "execution_count": 60,
   "metadata": {
    "collapsed": false
   },
   "outputs": [
    {
     "data": {
      "text/html": [
       "<div>\n",
       "<table border=\"1\" class=\"dataframe\">\n",
       "  <thead>\n",
       "    <tr style=\"text-align: right;\">\n",
       "      <th></th>\n",
       "      <th>Gender</th>\n",
       "      <th>Education</th>\n",
       "      <th>Loan_Status</th>\n",
       "    </tr>\n",
       "    <tr>\n",
       "      <th>Loan_ID</th>\n",
       "      <th></th>\n",
       "      <th></th>\n",
       "      <th></th>\n",
       "    </tr>\n",
       "  </thead>\n",
       "  <tbody>\n",
       "    <tr>\n",
       "      <th>LP001155</th>\n",
       "      <td>Female</td>\n",
       "      <td>Not Graduate</td>\n",
       "      <td>Y</td>\n",
       "    </tr>\n",
       "    <tr>\n",
       "      <th>LP001669</th>\n",
       "      <td>Female</td>\n",
       "      <td>Not Graduate</td>\n",
       "      <td>Y</td>\n",
       "    </tr>\n",
       "    <tr>\n",
       "      <th>LP001692</th>\n",
       "      <td>Female</td>\n",
       "      <td>Not Graduate</td>\n",
       "      <td>Y</td>\n",
       "    </tr>\n",
       "    <tr>\n",
       "      <th>LP001908</th>\n",
       "      <td>Female</td>\n",
       "      <td>Not Graduate</td>\n",
       "      <td>Y</td>\n",
       "    </tr>\n",
       "    <tr>\n",
       "      <th>LP002300</th>\n",
       "      <td>Female</td>\n",
       "      <td>Not Graduate</td>\n",
       "      <td>Y</td>\n",
       "    </tr>\n",
       "    <tr>\n",
       "      <th>LP002314</th>\n",
       "      <td>Female</td>\n",
       "      <td>Not Graduate</td>\n",
       "      <td>Y</td>\n",
       "    </tr>\n",
       "    <tr>\n",
       "      <th>LP002407</th>\n",
       "      <td>Female</td>\n",
       "      <td>Not Graduate</td>\n",
       "      <td>Y</td>\n",
       "    </tr>\n",
       "    <tr>\n",
       "      <th>LP002489</th>\n",
       "      <td>Female</td>\n",
       "      <td>Not Graduate</td>\n",
       "      <td>Y</td>\n",
       "    </tr>\n",
       "    <tr>\n",
       "      <th>LP002502</th>\n",
       "      <td>Female</td>\n",
       "      <td>Not Graduate</td>\n",
       "      <td>Y</td>\n",
       "    </tr>\n",
       "    <tr>\n",
       "      <th>LP002534</th>\n",
       "      <td>Female</td>\n",
       "      <td>Not Graduate</td>\n",
       "      <td>Y</td>\n",
       "    </tr>\n",
       "    <tr>\n",
       "      <th>LP002582</th>\n",
       "      <td>Female</td>\n",
       "      <td>Not Graduate</td>\n",
       "      <td>Y</td>\n",
       "    </tr>\n",
       "    <tr>\n",
       "      <th>LP002731</th>\n",
       "      <td>Female</td>\n",
       "      <td>Not Graduate</td>\n",
       "      <td>Y</td>\n",
       "    </tr>\n",
       "    <tr>\n",
       "      <th>LP002757</th>\n",
       "      <td>Female</td>\n",
       "      <td>Not Graduate</td>\n",
       "      <td>Y</td>\n",
       "    </tr>\n",
       "    <tr>\n",
       "      <th>LP002917</th>\n",
       "      <td>Female</td>\n",
       "      <td>Not Graduate</td>\n",
       "      <td>Y</td>\n",
       "    </tr>\n",
       "  </tbody>\n",
       "</table>\n",
       "</div>"
      ],
      "text/plain": [
       "          Gender     Education Loan_Status\n",
       "Loan_ID                                   \n",
       "LP001155  Female  Not Graduate           Y\n",
       "LP001669  Female  Not Graduate           Y\n",
       "LP001692  Female  Not Graduate           Y\n",
       "LP001908  Female  Not Graduate           Y\n",
       "LP002300  Female  Not Graduate           Y\n",
       "LP002314  Female  Not Graduate           Y\n",
       "LP002407  Female  Not Graduate           Y\n",
       "LP002489  Female  Not Graduate           Y\n",
       "LP002502  Female  Not Graduate           Y\n",
       "LP002534  Female  Not Graduate           Y\n",
       "LP002582  Female  Not Graduate           Y\n",
       "LP002731  Female  Not Graduate           Y\n",
       "LP002757  Female  Not Graduate           Y\n",
       "LP002917  Female  Not Graduate           Y"
      ]
     },
     "execution_count": 60,
     "metadata": {},
     "output_type": "execute_result"
    }
   ],
   "source": [
    "#1. Boolean Indexing\n",
    "#all females who are not graduate and got a loan\n",
    "\n",
    "data.loc[(data[\"Gender\"]==\"Female\") & (data[\"Education\"]==\"Not Graduate\") & (data[\"Loan_Status\"]==\"Y\"),[\"Gender\",\"Education\",\"Loan_Status\"]]"
   ]
  },
  {
   "cell_type": "code",
   "execution_count": 123,
   "metadata": {
    "collapsed": false
   },
   "outputs": [
    {
     "name": "stdout",
     "output_type": "stream",
     "text": [
      "Missing values per column:\n",
      "Gender                0\n",
      "Married               0\n",
      "Dependents           15\n",
      "Education             0\n",
      "Self_Employed         0\n",
      "ApplicantIncome       0\n",
      "CoapplicantIncome     0\n",
      "LoanAmount            0\n",
      "Loan_Amount_Term     14\n",
      "Credit_History       50\n",
      "Property_Area         0\n",
      "Loan_Status           0\n",
      "dtype: int64\n",
      "\n",
      "Missing values per row:\n",
      "Loan_ID\n",
      "LP001002    0\n",
      "LP001003    0\n",
      "LP001005    0\n",
      "LP001006    0\n",
      "LP001008    0\n",
      "dtype: int64\n"
     ]
    }
   ],
   "source": [
    "#2.calculate total Missing value Row and Column wise\n",
    "\n",
    "def num_missing(x):\n",
    "  return sum(x.isnull())\n",
    "\n",
    "\n",
    "print \"Missing values per column:\"\n",
    "print data.apply(num_missing, axis=0) #axis=0 defines that function is to be applied on each column\n",
    "\n",
    "#Applying per row:\n",
    "print \"\\nMissing values per row:\"\n",
    "print data.apply(num_missing, axis=1).head() #axis=1 defines that function is to be applied on each row"
   ]
  },
  {
   "cell_type": "code",
   "execution_count": 87,
   "metadata": {
    "collapsed": false
   },
   "outputs": [
    {
     "name": "stdout",
     "output_type": "stream",
     "text": [
      "Gender                0\n",
      "Married               0\n",
      "Dependents           15\n",
      "Education             0\n",
      "Self_Employed         0\n",
      "ApplicantIncome       0\n",
      "CoapplicantIncome     0\n",
      "LoanAmount           22\n",
      "Loan_Amount_Term     14\n",
      "Credit_History       50\n",
      "Property_Area         0\n",
      "Loan_Status           0\n",
      "dtype: int64\n"
     ]
    }
   ],
   "source": [
    "#3 IMputing Missing Values\n",
    "data['Gender'].fillna(mode(data['Gender']).mode[0], inplace=True)\n",
    "data['Married'].fillna(mode(data['Married']).mode[0], inplace=True)\n",
    "data['Self_Employed'].fillna(mode(data['Self_Employed']).mode[0], inplace=True)\n",
    "print data.apply(num_missing, axis=0)"
   ]
  },
  {
   "cell_type": "code",
   "execution_count": 111,
   "metadata": {
    "collapsed": false
   },
   "outputs": [
    {
     "name": "stdout",
     "output_type": "stream",
     "text": [
      "                              LoanAmount\n",
      "Gender Married Self_Employed            \n",
      "Female No      No             114.691176\n",
      "               Yes            125.800000\n",
      "       Yes     No             134.222222\n",
      "               Yes            282.250000\n",
      "Male   No      No             129.936937\n",
      "               Yes            180.588235\n",
      "       Yes     No             153.882736\n",
      "               Yes            169.395833\n"
     ]
    }
   ],
   "source": [
    "#4 LoanAmount of each group can be determined as:\n",
    "impute_grps = data.pivot_table(values=[\"LoanAmount\"], index=[\"Gender\",\"Married\",\"Self_Employed\"], aggfunc=np.mean)\n",
    "print impute_grps\n",
    "x=data.loc[data['LoanAmount'].isnull()]\n"
   ]
  },
  {
   "cell_type": "code",
   "execution_count": 125,
   "metadata": {
    "collapsed": false
   },
   "outputs": [
    {
     "name": "stdout",
     "output_type": "stream",
     "text": [
      "Gender                0\n",
      "Married               0\n",
      "Dependents           15\n",
      "Education             0\n",
      "Self_Employed         0\n",
      "ApplicantIncome       0\n",
      "CoapplicantIncome     0\n",
      "LoanAmount            0\n",
      "Loan_Amount_Term     14\n",
      "Credit_History       50\n",
      "Property_Area         0\n",
      "Loan_Status           0\n",
      "dtype: int64\n"
     ]
    }
   ],
   "source": [
    "#iterate only through rows with missing LoanAmount and insert above calculated mean value\n",
    "for i,row in data.loc[data['LoanAmount'].isnull()].iterrows():\n",
    "    ind = tuple([row['Gender'],row['Married'],row['Self_Employed']])\n",
    "    data.loc[i,'LoanAmount'] = impute_grps.loc[ind].values[0]\n",
    "    \n",
    "print data.apply(num_missing, axis=0)"
   ]
  },
  {
   "cell_type": "code",
   "execution_count": 127,
   "metadata": {
    "collapsed": false
   },
   "outputs": [
    {
     "data": {
      "text/html": [
       "<div>\n",
       "<table border=\"1\" class=\"dataframe\">\n",
       "  <thead>\n",
       "    <tr style=\"text-align: right;\">\n",
       "      <th>Loan_Status</th>\n",
       "      <th>N</th>\n",
       "      <th>Y</th>\n",
       "      <th>All</th>\n",
       "    </tr>\n",
       "    <tr>\n",
       "      <th>Credit_History</th>\n",
       "      <th></th>\n",
       "      <th></th>\n",
       "      <th></th>\n",
       "    </tr>\n",
       "  </thead>\n",
       "  <tbody>\n",
       "    <tr>\n",
       "      <th>0.0</th>\n",
       "      <td>82</td>\n",
       "      <td>7</td>\n",
       "      <td>89</td>\n",
       "    </tr>\n",
       "    <tr>\n",
       "      <th>1.0</th>\n",
       "      <td>97</td>\n",
       "      <td>378</td>\n",
       "      <td>475</td>\n",
       "    </tr>\n",
       "    <tr>\n",
       "      <th>All</th>\n",
       "      <td>179</td>\n",
       "      <td>385</td>\n",
       "      <td>564</td>\n",
       "    </tr>\n",
       "  </tbody>\n",
       "</table>\n",
       "</div>"
      ],
      "text/plain": [
       "Loan_Status       N    Y  All\n",
       "Credit_History               \n",
       "0.0              82    7   89\n",
       "1.0              97  378  475\n",
       "All             179  385  564"
      ]
     },
     "execution_count": 127,
     "metadata": {},
     "output_type": "execute_result"
    }
   ],
   "source": [
    "pd.crosstab(data[\"Credit_History\"],data[\"Loan_Status\"],margins=True)"
   ]
  },
  {
   "cell_type": "code",
   "execution_count": 134,
   "metadata": {
    "collapsed": false
   },
   "outputs": [
    {
     "data": {
      "text/html": [
       "<div>\n",
       "<table border=\"1\" class=\"dataframe\">\n",
       "  <thead>\n",
       "    <tr style=\"text-align: right;\">\n",
       "      <th>Loan_Status</th>\n",
       "      <th>N</th>\n",
       "      <th>Y</th>\n",
       "      <th>All</th>\n",
       "    </tr>\n",
       "    <tr>\n",
       "      <th>Credit_History</th>\n",
       "      <th></th>\n",
       "      <th></th>\n",
       "      <th></th>\n",
       "    </tr>\n",
       "  </thead>\n",
       "  <tbody>\n",
       "    <tr>\n",
       "      <th>0.0</th>\n",
       "      <td>0.921348</td>\n",
       "      <td>0.078652</td>\n",
       "      <td>1.0</td>\n",
       "    </tr>\n",
       "    <tr>\n",
       "      <th>1.0</th>\n",
       "      <td>0.204211</td>\n",
       "      <td>0.795789</td>\n",
       "      <td>1.0</td>\n",
       "    </tr>\n",
       "    <tr>\n",
       "      <th>All</th>\n",
       "      <td>0.317376</td>\n",
       "      <td>0.682624</td>\n",
       "      <td>1.0</td>\n",
       "    </tr>\n",
       "  </tbody>\n",
       "</table>\n",
       "</div>"
      ],
      "text/plain": [
       "Loan_Status            N         Y  All\n",
       "Credit_History                         \n",
       "0.0             0.921348  0.078652  1.0\n",
       "1.0             0.204211  0.795789  1.0\n",
       "All             0.317376  0.682624  1.0"
      ]
     },
     "execution_count": 134,
     "metadata": {},
     "output_type": "execute_result"
    }
   ],
   "source": [
    "def percConvert(ser):\n",
    "    return ser/float(ser[-1])\n",
    "\n",
    "pd.crosstab(data[\"Credit_History\"],data[\"Loan_Status\"],margins=True).apply(percConvert, axis=1)\n"
   ]
  },
  {
   "cell_type": "code",
   "execution_count": 136,
   "metadata": {
    "collapsed": false
   },
   "outputs": [
    {
     "data": {
      "text/html": [
       "<div>\n",
       "<table border=\"1\" class=\"dataframe\">\n",
       "  <thead>\n",
       "    <tr style=\"text-align: right;\">\n",
       "      <th></th>\n",
       "      <th>rates</th>\n",
       "    </tr>\n",
       "  </thead>\n",
       "  <tbody>\n",
       "    <tr>\n",
       "      <th>Rural</th>\n",
       "      <td>1000</td>\n",
       "    </tr>\n",
       "    <tr>\n",
       "      <th>Semiurban</th>\n",
       "      <td>5000</td>\n",
       "    </tr>\n",
       "    <tr>\n",
       "      <th>Urban</th>\n",
       "      <td>12000</td>\n",
       "    </tr>\n",
       "  </tbody>\n",
       "</table>\n",
       "</div>"
      ],
      "text/plain": [
       "           rates\n",
       "Rural       1000\n",
       "Semiurban   5000\n",
       "Urban      12000"
      ]
     },
     "execution_count": 136,
     "metadata": {},
     "output_type": "execute_result"
    }
   ],
   "source": [
    "prop_rates = pd.DataFrame([1000, 5000, 12000], index=['Rural','Semiurban','Urban'],columns=['rates'])\n",
    "prop_rates"
   ]
  },
  {
   "cell_type": "code",
   "execution_count": 146,
   "metadata": {
    "collapsed": false
   },
   "outputs": [
    {
     "data": {
      "text/plain": [
       "Property_Area  rates\n",
       "Rural          1000     179.0\n",
       "Semiurban      5000     233.0\n",
       "Urban          12000    202.0\n",
       "Name: Credit_History, dtype: float64"
      ]
     },
     "execution_count": 146,
     "metadata": {},
     "output_type": "execute_result"
    }
   ],
   "source": [
    "#The pivot table validates successful merge operation. Note that the ‘values’ argument is irrelevant here because we are simply counting the values.\n",
    "data_merged = data.merge(right=prop_rates, how='inner',left_on='Property_Area',right_index=True, sort=False)\n",
    "data_merged.pivot_table(values='Credit_History',index=['Property_Area','rates'], aggfunc=len)"
   ]
  },
  {
   "cell_type": "code",
   "execution_count": 141,
   "metadata": {
    "collapsed": false
   },
   "outputs": [
    {
     "data": {
      "text/html": [
       "<div>\n",
       "<table border=\"1\" class=\"dataframe\">\n",
       "  <thead>\n",
       "    <tr style=\"text-align: right;\">\n",
       "      <th></th>\n",
       "      <th>ApplicantIncome</th>\n",
       "      <th>CoapplicantIncome</th>\n",
       "    </tr>\n",
       "    <tr>\n",
       "      <th>Loan_ID</th>\n",
       "      <th></th>\n",
       "      <th></th>\n",
       "    </tr>\n",
       "  </thead>\n",
       "  <tbody>\n",
       "    <tr>\n",
       "      <th>LP002317</th>\n",
       "      <td>81000</td>\n",
       "      <td>0.0</td>\n",
       "    </tr>\n",
       "    <tr>\n",
       "      <th>LP002101</th>\n",
       "      <td>63337</td>\n",
       "      <td>0.0</td>\n",
       "    </tr>\n",
       "    <tr>\n",
       "      <th>LP001585</th>\n",
       "      <td>51763</td>\n",
       "      <td>0.0</td>\n",
       "    </tr>\n",
       "    <tr>\n",
       "      <th>LP001536</th>\n",
       "      <td>39999</td>\n",
       "      <td>0.0</td>\n",
       "    </tr>\n",
       "    <tr>\n",
       "      <th>LP001640</th>\n",
       "      <td>39147</td>\n",
       "      <td>4750.0</td>\n",
       "    </tr>\n",
       "    <tr>\n",
       "      <th>LP002422</th>\n",
       "      <td>37719</td>\n",
       "      <td>0.0</td>\n",
       "    </tr>\n",
       "    <tr>\n",
       "      <th>LP001637</th>\n",
       "      <td>33846</td>\n",
       "      <td>0.0</td>\n",
       "    </tr>\n",
       "    <tr>\n",
       "      <th>LP001448</th>\n",
       "      <td>23803</td>\n",
       "      <td>0.0</td>\n",
       "    </tr>\n",
       "    <tr>\n",
       "      <th>LP002624</th>\n",
       "      <td>20833</td>\n",
       "      <td>6667.0</td>\n",
       "    </tr>\n",
       "    <tr>\n",
       "      <th>LP001922</th>\n",
       "      <td>20667</td>\n",
       "      <td>0.0</td>\n",
       "    </tr>\n",
       "  </tbody>\n",
       "</table>\n",
       "</div>"
      ],
      "text/plain": [
       "          ApplicantIncome  CoapplicantIncome\n",
       "Loan_ID                                     \n",
       "LP002317            81000                0.0\n",
       "LP002101            63337                0.0\n",
       "LP001585            51763                0.0\n",
       "LP001536            39999                0.0\n",
       "LP001640            39147             4750.0\n",
       "LP002422            37719                0.0\n",
       "LP001637            33846                0.0\n",
       "LP001448            23803                0.0\n",
       "LP002624            20833             6667.0\n",
       "LP001922            20667                0.0"
      ]
     },
     "execution_count": 141,
     "metadata": {},
     "output_type": "execute_result"
    }
   ],
   "source": [
    "data_sorted = data.sort_values(['ApplicantIncome','CoapplicantIncome'], ascending=False)\n",
    "data_sorted[['ApplicantIncome','CoapplicantIncome']].head(10)"
   ]
  },
  {
   "cell_type": "code",
   "execution_count": 143,
   "metadata": {
    "collapsed": false
   },
   "outputs": [
    {
     "data": {
      "text/plain": [
       "<matplotlib.axes._subplots.AxesSubplot at 0x7f21ca326650>"
      ]
     },
     "execution_count": 143,
     "metadata": {},
     "output_type": "execute_result"
    },
    {
     "data": {
      "image/png": "[encoded data removed]",
      "text/plain": [
       "<matplotlib.figure.Figure at 0x7f21ca62ae10>"
      ]
     },
     "metadata": {},
     "output_type": "display_data"
    }
   ],
   "source": [
    "import matplotlib.pyplot as plt\n",
    "%matplotlib inline\n",
    "data.boxplot(column=\"ApplicantIncome\",by=\"Loan_Status\")"
   ]
  },
  {
   "cell_type": "code",
   "execution_count": 145,
   "metadata": {
    "collapsed": false
   },
   "outputs": [
    {
     "data": {
      "text/plain": [
       "array([<matplotlib.axes._subplots.AxesSubplot object at 0x7f21c7e7f610>,\n",
       "       <matplotlib.axes._subplots.AxesSubplot object at 0x7f21c7cee910>], dtype=object)"
      ]
     },
     "execution_count": 145,
     "metadata": {},
     "output_type": "execute_result"
    },
    {
     "data": {
      "image/png": "[encoded data removed]",
      "text/plain": [
       "<matplotlib.figure.Figure at 0x7f21c7d67490>"
      ]
     },
     "metadata": {},
     "output_type": "display_data"
    }
   ],
   "source": [
    "#This shows that income is not a big deciding factor on its own as there is no appreciable difference between the people who received and were denied the loan.\n",
    "data.hist(column=\"ApplicantIncome\",by=\"Loan_Status\",bins=30)"
   ]
  }
 ],
 "metadata": {
  "kernelspec": {
   "display_name": "Python 2",
   "language": "python",
   "name": "python2"
  },
  "language_info": {
   "codemirror_mode": {
    "name": "ipython",
    "version": 2
   },
   "file_extension": ".py",
   "mimetype": "text/x-python",
   "name": "python",
   "nbconvert_exporter": "python",
   "pygments_lexer": "ipython2",
   "version": "2.7.12"
  }
 },
 "nbformat": 4,
 "nbformat_minor": 2
}
